{
 "cells": [
  {
   "cell_type": "code",
   "execution_count": 1,
   "id": "efc72b52",
   "metadata": {},
   "outputs": [],
   "source": [
    "import requests\n",
    "from bs4 import BeautifulSoup\n",
    "import pandas as pd\n",
    "from time import sleep"
   ]
  },
  {
   "cell_type": "code",
   "execution_count": 14,
   "id": "710a223f",
   "metadata": {},
   "outputs": [],
   "source": [
    "DATA = []\n",
    "\n",
    "\n",
    "\n",
    "for page in range(1, 8): #границы отрезка зависят от кол-ва страниц результатов \n",
    "    url0=f\"https://grls.rosminzdrav.ru/GRLS.aspx?RegNumber=&MnnR=&lf=&TradeNmR=&OwnerName=эллара&MnfOrg=&MnfOrgCountry=&isfs=0&regtype=1%2c6&pageSize=10&order=Registered&orderType=desc&pageNum={page}\"\n",
    "    \n",
    "    l = requests.get(url0)\n",
    "    soup0 = BeautifulSoup(l.text, 'lxml')\n",
    "    \n",
    "    for i in soup0.findAll('tr', class_='hi_sys'):\n",
    "        url = \"https://grls.rosminzdrav.ru/Grls_View_v2.aspx?routingGuid=\"+i.get('onclick').split(\"'\")[1] #с каждой строки идет переход на отдельную страницу\n",
    "        r = requests.get(url)\n",
    "        sleep(3) #чтобы не перегружать и не нарваться на блокировку\n",
    "        soup = BeautifulSoup(r.text, 'lxml')\n",
    "            \n",
    "        lines = soup.findAll('tr', class_ = 'ter1')\n",
    "        RegNr = lines[0].find(id='ctl00_plate_RegNr').get('value')\n",
    "        RegDate = lines[0].find(id='ctl00_plate_RegDate').get('value')\n",
    "        trade_name = lines[2].find(id='ctl00_plate_TradeNmR').get('value')\n",
    "        Innr = lines[3].find(id='ctl00_plate_Innr').text\n",
    "        forma = lines[4].find('tr', class_=\"hi_sys\").find('td').text.strip() \n",
    "        codeATX = lines[9].find('tr', class_=\"hi_sys\").find('td').text\n",
    "\n",
    "        data1 = [RegNr, RegDate, trade_name, Innr, forma, codeATX]\n",
    "                \n",
    "        if lines[10].findAll('tr', class_='hi_sys'):\n",
    "            \n",
    "            for i in lines[10].findAll('tr', class_='hi_sys'):\n",
    "        \n",
    "                substation = i.findAll('td')[0].text\n",
    "                manufacturer = i.findAll('td')[2].text\n",
    "                adress = i.findAll('td')[3].text\n",
    "                ND = i.findAll('td')[6].text\n",
    "                DATA.append(data1 + [substation, manufacturer, adress, ND])\n",
    "        else:\n",
    "            DATA.append(data1 + ['~', '~', '~', '~'])\n"
   ]
  },
  {
   "cell_type": "code",
   "execution_count": 15,
   "id": "d315826b",
   "metadata": {},
   "outputs": [
    {
     "name": "stderr",
     "output_type": "stream",
     "text": [
      "C:\\Users\\Катерина\\AppData\\Roaming\\Python\\Python39\\site-packages\\pandas\\util\\_decorators.py:211: FutureWarning: the 'encoding' keyword is deprecated and will be removed in a future version. Please take steps to stop the use of 'encoding'\n",
      "  return func(*args, **kwargs)\n"
     ]
    }
   ],
   "source": [
    "header = [\"number\", \"date1\", \"trade_name\", \"Innr\", \"forma\", \"code_ATX\", \"substation\", \"manufacturer\", \"adress\", \"ND\"]\n",
    "df = pd.DataFrame([DATA][0], columns=header) \n",
    "\n",
    "\n",
    "for i in range(len(DATA[1::])):\n",
    "   \n",
    "    df.loc[i] = DATA[i]\n",
    "df.to_excel(r'C:\\Users\\Катерина\\Desktop\\ellara.xlsx', encoding='utf-16') "
   ]
  }
 ],
 "metadata": {
  "kernelspec": {
   "display_name": "Python 3 (ipykernel)",
   "language": "python",
   "name": "python3"
  },
  "language_info": {
   "codemirror_mode": {
    "name": "ipython",
    "version": 3
   },
   "file_extension": ".py",
   "mimetype": "text/x-python",
   "name": "python",
   "nbconvert_exporter": "python",
   "pygments_lexer": "ipython3",
   "version": "3.9.13"
  }
 },
 "nbformat": 4,
 "nbformat_minor": 5
}
